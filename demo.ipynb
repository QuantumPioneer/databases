{
 "cells": [
  {
   "cell_type": "markdown",
   "metadata": {},
   "source": [
    "# `QuantumPioneer/databases` Demo\n",
    "This notebook demonstrates how to interact with the `QuantumPioneer` databases.\n",
    "\n",
    "See inline comments for more information."
   ]
  },
  {
   "cell_type": "code",
   "execution_count": 1,
   "metadata": {},
   "outputs": [],
   "source": [
    "# both pandas and polars can read parquet files - pick whichever you prefer!\n",
    "# there are advantages and disadvantages to both\n",
    "import pandas as pd\n",
    "import polars as pl\n",
    "\n",
    "# this library interacts with the parquet format directly, and both pandas and polars can use it too\n",
    "import pyarrow.parquet as pq\n",
    "\n",
    "# schema = layout of the database (what are the datatypes, etc.)\n",
    "# the schema for the quantumpioneer databases are stored in databases.schema and vary depending on the type of data\n",
    "from databases.schema import DLPNO_SCHEMA"
   ]
  },
  {
   "cell_type": "code",
   "execution_count": 2,
   "metadata": {},
   "outputs": [
    {
     "data": {
      "text/html": [
       "<div>\n",
       "<style scoped>\n",
       "    .dataframe tbody tr th:only-of-type {\n",
       "        vertical-align: middle;\n",
       "    }\n",
       "\n",
       "    .dataframe tbody tr th {\n",
       "        vertical-align: top;\n",
       "    }\n",
       "\n",
       "    .dataframe thead th {\n",
       "        text-align: right;\n",
       "    }\n",
       "</style>\n",
       "<table border=\"1\" class=\"dataframe\">\n",
       "  <thead>\n",
       "    <tr style=\"text-align: right;\">\n",
       "      <th></th>\n",
       "      <th>source</th>\n",
       "      <th>route_section</th>\n",
       "      <th>charge</th>\n",
       "      <th>multiplicity</th>\n",
       "      <th>energy</th>\n",
       "      <th>run_time</th>\n",
       "      <th>input_coordinates</th>\n",
       "      <th>dipole_au</th>\n",
       "    </tr>\n",
       "  </thead>\n",
       "  <tbody>\n",
       "    <tr>\n",
       "      <th>0</th>\n",
       "      <td>/data1/groups/co2_capture/reactant_product_cal...</td>\n",
       "      <td>uHF UNO DLPNO-CCSD(T)-F12D cc-pvtz-f12 def2/J ...</td>\n",
       "      <td>0</td>\n",
       "      <td>2</td>\n",
       "      <td>-514.989394</td>\n",
       "      <td>2496.0</td>\n",
       "      <td>[[-2.360469, -1.761878, -0.109737], [-1.560797...</td>\n",
       "      <td>NaN</td>\n",
       "    </tr>\n",
       "    <tr>\n",
       "      <th>1</th>\n",
       "      <td>/data1/groups/co2_capture/reactant_product_cal...</td>\n",
       "      <td>uHF UNO DLPNO-CCSD(T)-F12D cc-pvtz-f12 def2/J ...</td>\n",
       "      <td>0</td>\n",
       "      <td>2</td>\n",
       "      <td>-439.242168</td>\n",
       "      <td>1018.0</td>\n",
       "      <td>[[3.029253, 0.698307, -0.169511], [1.874487, -...</td>\n",
       "      <td>NaN</td>\n",
       "    </tr>\n",
       "    <tr>\n",
       "      <th>2</th>\n",
       "      <td>/data1/groups/co2_capture/reactant_product_cal...</td>\n",
       "      <td>uHF UNO DLPNO-CCSD(T)-F12D cc-pvtz-f12 def2/J ...</td>\n",
       "      <td>0</td>\n",
       "      <td>2</td>\n",
       "      <td>-649.692914</td>\n",
       "      <td>1001.0</td>\n",
       "      <td>[[2.473871, -0.648153, 0.590555], [1.045148, -...</td>\n",
       "      <td>NaN</td>\n",
       "    </tr>\n",
       "    <tr>\n",
       "      <th>3</th>\n",
       "      <td>/data1/groups/co2_capture/reactant_product_cal...</td>\n",
       "      <td>uHF UNO DLPNO-CCSD(T)-F12D cc-pvtz-f12 def2/J ...</td>\n",
       "      <td>0</td>\n",
       "      <td>2</td>\n",
       "      <td>-447.794979</td>\n",
       "      <td>705.0</td>\n",
       "      <td>[[2.92968, 0.128456, -0.032012], [1.868792, -0...</td>\n",
       "      <td>NaN</td>\n",
       "    </tr>\n",
       "  </tbody>\n",
       "</table>\n",
       "</div>"
      ],
      "text/plain": [
       "                                              source  \\\n",
       "0  /data1/groups/co2_capture/reactant_product_cal...   \n",
       "1  /data1/groups/co2_capture/reactant_product_cal...   \n",
       "2  /data1/groups/co2_capture/reactant_product_cal...   \n",
       "3  /data1/groups/co2_capture/reactant_product_cal...   \n",
       "\n",
       "                                       route_section  charge  multiplicity  \\\n",
       "0  uHF UNO DLPNO-CCSD(T)-F12D cc-pvtz-f12 def2/J ...       0             2   \n",
       "1  uHF UNO DLPNO-CCSD(T)-F12D cc-pvtz-f12 def2/J ...       0             2   \n",
       "2  uHF UNO DLPNO-CCSD(T)-F12D cc-pvtz-f12 def2/J ...       0             2   \n",
       "3  uHF UNO DLPNO-CCSD(T)-F12D cc-pvtz-f12 def2/J ...       0             2   \n",
       "\n",
       "       energy  run_time                                  input_coordinates  \\\n",
       "0 -514.989394    2496.0  [[-2.360469, -1.761878, -0.109737], [-1.560797...   \n",
       "1 -439.242168    1018.0  [[3.029253, 0.698307, -0.169511], [1.874487, -...   \n",
       "2 -649.692914    1001.0  [[2.473871, -0.648153, 0.590555], [1.045148, -...   \n",
       "3 -447.794979     705.0  [[2.92968, 0.128456, -0.032012], [1.868792, -0...   \n",
       "\n",
       "   dipole_au  \n",
       "0        NaN  \n",
       "1        NaN  \n",
       "2        NaN  \n",
       "3        NaN  "
      ]
     },
     "execution_count": 2,
     "metadata": {},
     "output_type": "execute_result"
    }
   ],
   "source": [
    "# just open and read the entire dataset (very practical with the DLPNO data, which is small), which will be slow with pandas\n",
    "df = pd.read_parquet(\n",
    "    \"dlpno.parquet\",\n",
    "    schema=DLPNO_SCHEMA,  # pandas will try and guess this on its own if you don't provide it - it gets it right, but is slower\n",
    ")\n",
    "df.head(4)"
   ]
  },
  {
   "cell_type": "code",
   "execution_count": 3,
   "metadata": {},
   "outputs": [
    {
     "data": {
      "text/plain": [
       "['uHF UNO DLPNO-CCSD(T)-F12D cc-pvtz-f12 def2/J cc-pvqz/c cc-pvqz-f12-cabs RIJCOSX NormalSCF NormalPNO',\n",
       " array([array([-2.360469, -1.761878, -0.109737]),\n",
       "        array([-1.560797, -0.685955, -0.252496]),\n",
       "        array([-2.127112,  0.659518, -0.191565]),\n",
       "        array([-1.340214,  1.733086,  0.021883]),\n",
       "        array([0.088651, 1.576148, 0.198928]),\n",
       "        array([0.708166, 0.380756, 0.012916]),\n",
       "        array([2.183807, 0.285345, 0.177394]),\n",
       "        array([ 2.941005, -0.518201, -0.426811]),\n",
       "        array([2.941055, 1.179135, 1.172935]),\n",
       "        array([2.451954, 2.043206, 1.840821]),\n",
       "        array([-0.081235, -0.795185, -0.422791]),\n",
       "        array([ 0.466511, -1.882603, -0.997212]),\n",
       "        array([-1.96053 , -2.775147, -0.038008]),\n",
       "        array([-3.444336, -1.643877, -0.036627]),\n",
       "        array([-3.212525,  0.765135, -0.263067]),\n",
       "        array([-1.77051 ,  2.732335,  0.109103]),\n",
       "        array([0.668645, 2.451011, 0.487481]),\n",
       "        array([4.025992, 0.932871, 1.216651]),\n",
       "        array([ 1.546979, -1.995848, -1.10496 ]),\n",
       "        array([-0.165135, -2.679552, -1.395038])], dtype=object)]"
      ]
     },
     "execution_count": 3,
     "metadata": {},
     "output_type": "execute_result"
    }
   ],
   "source": [
    "# from here you can do all of your usual pandas manipulations\n",
    "df.iloc[0][[\"route_section\", \"input_coordinates\"]].to_list()"
   ]
  },
  {
   "cell_type": "code",
   "execution_count": 4,
   "metadata": {},
   "outputs": [
    {
     "data": {
      "text/html": [
       "<div>\n",
       "<style scoped>\n",
       "    .dataframe tbody tr th:only-of-type {\n",
       "        vertical-align: middle;\n",
       "    }\n",
       "\n",
       "    .dataframe tbody tr th {\n",
       "        vertical-align: top;\n",
       "    }\n",
       "\n",
       "    .dataframe thead th {\n",
       "        text-align: right;\n",
       "    }\n",
       "</style>\n",
       "<table border=\"1\" class=\"dataframe\">\n",
       "  <thead>\n",
       "    <tr style=\"text-align: right;\">\n",
       "      <th></th>\n",
       "      <th>source</th>\n",
       "      <th>energy</th>\n",
       "    </tr>\n",
       "  </thead>\n",
       "  <tbody>\n",
       "    <tr>\n",
       "      <th>0</th>\n",
       "      <td>/data1/groups/co2_capture/reactant_product_cal...</td>\n",
       "      <td>-514.989394</td>\n",
       "    </tr>\n",
       "    <tr>\n",
       "      <th>1</th>\n",
       "      <td>/data1/groups/co2_capture/reactant_product_cal...</td>\n",
       "      <td>-439.242168</td>\n",
       "    </tr>\n",
       "    <tr>\n",
       "      <th>2</th>\n",
       "      <td>/data1/groups/co2_capture/reactant_product_cal...</td>\n",
       "      <td>-649.692914</td>\n",
       "    </tr>\n",
       "    <tr>\n",
       "      <th>3</th>\n",
       "      <td>/data1/groups/co2_capture/reactant_product_cal...</td>\n",
       "      <td>-447.794979</td>\n",
       "    </tr>\n",
       "  </tbody>\n",
       "</table>\n",
       "</div>"
      ],
      "text/plain": [
       "                                              source      energy\n",
       "0  /data1/groups/co2_capture/reactant_product_cal... -514.989394\n",
       "1  /data1/groups/co2_capture/reactant_product_cal... -439.242168\n",
       "2  /data1/groups/co2_capture/reactant_product_cal... -649.692914\n",
       "3  /data1/groups/co2_capture/reactant_product_cal... -447.794979"
      ]
     },
     "execution_count": 4,
     "metadata": {},
     "output_type": "execute_result"
    }
   ],
   "source": [
    "# you can reduce the amount of memory consumed by only loading the columns that you care about using columns=...\n",
    "df = pd.read_parquet(\"dlpno.parquet\", columns=[\"source\", \"energy\"])\n",
    "df.head(4)"
   ]
  },
  {
   "cell_type": "code",
   "execution_count": 5,
   "metadata": {},
   "outputs": [
    {
     "data": {
      "text/html": [
       "<div>\n",
       "<style scoped>\n",
       "    .dataframe tbody tr th:only-of-type {\n",
       "        vertical-align: middle;\n",
       "    }\n",
       "\n",
       "    .dataframe tbody tr th {\n",
       "        vertical-align: top;\n",
       "    }\n",
       "\n",
       "    .dataframe thead th {\n",
       "        text-align: right;\n",
       "    }\n",
       "</style>\n",
       "<table border=\"1\" class=\"dataframe\">\n",
       "  <thead>\n",
       "    <tr style=\"text-align: right;\">\n",
       "      <th></th>\n",
       "      <th>source</th>\n",
       "      <th>route_section</th>\n",
       "      <th>charge</th>\n",
       "      <th>multiplicity</th>\n",
       "      <th>energy</th>\n",
       "      <th>run_time</th>\n",
       "      <th>input_coordinates</th>\n",
       "    </tr>\n",
       "  </thead>\n",
       "  <tbody>\n",
       "    <tr>\n",
       "      <th>0</th>\n",
       "      <td>/data1/groups/co2_capture/reactant_product_cal...</td>\n",
       "      <td>uHF UNO DLPNO-CCSD(T)-F12D cc-pvtz-f12 def2/J ...</td>\n",
       "      <td>0</td>\n",
       "      <td>2</td>\n",
       "      <td>-649.692914</td>\n",
       "      <td>1001.0</td>\n",
       "      <td>[[2.473871, -0.648153, 0.590555], [1.045148, -...</td>\n",
       "    </tr>\n",
       "    <tr>\n",
       "      <th>1</th>\n",
       "      <td>/data1/groups/co2_capture/reactant_product_cal...</td>\n",
       "      <td>uHF UNO DLPNO-CCSD(T)-F12D cc-pvtz-f12 def2/J ...</td>\n",
       "      <td>0</td>\n",
       "      <td>2</td>\n",
       "      <td>-447.794979</td>\n",
       "      <td>705.0</td>\n",
       "      <td>[[2.92968, 0.128456, -0.032012], [1.868792, -0...</td>\n",
       "    </tr>\n",
       "    <tr>\n",
       "      <th>2</th>\n",
       "      <td>/data1/groups/co2_capture/reactant_product_cal...</td>\n",
       "      <td>uHF UNO DLPNO-CCSD(T)-F12D cc-pvtz-f12 def2/J ...</td>\n",
       "      <td>0</td>\n",
       "      <td>2</td>\n",
       "      <td>-523.491165</td>\n",
       "      <td>4319.0</td>\n",
       "      <td>[[0.077567, 3.346077, -0.220834], [0.117832, 2...</td>\n",
       "    </tr>\n",
       "    <tr>\n",
       "      <th>3</th>\n",
       "      <td>/data1/groups/co2_capture/reactant_product_cal...</td>\n",
       "      <td>uHF UNO DLPNO-CCSD(T)-F12D cc-pvtz-f12 def2/J ...</td>\n",
       "      <td>0</td>\n",
       "      <td>2</td>\n",
       "      <td>-617.293924</td>\n",
       "      <td>4085.0</td>\n",
       "      <td>[[3.983572, -0.333946, -0.80899], [2.850692, 0...</td>\n",
       "    </tr>\n",
       "  </tbody>\n",
       "</table>\n",
       "</div>"
      ],
      "text/plain": [
       "                                              source  \\\n",
       "0  /data1/groups/co2_capture/reactant_product_cal...   \n",
       "1  /data1/groups/co2_capture/reactant_product_cal...   \n",
       "2  /data1/groups/co2_capture/reactant_product_cal...   \n",
       "3  /data1/groups/co2_capture/reactant_product_cal...   \n",
       "\n",
       "                                       route_section  charge  multiplicity  \\\n",
       "0  uHF UNO DLPNO-CCSD(T)-F12D cc-pvtz-f12 def2/J ...       0             2   \n",
       "1  uHF UNO DLPNO-CCSD(T)-F12D cc-pvtz-f12 def2/J ...       0             2   \n",
       "2  uHF UNO DLPNO-CCSD(T)-F12D cc-pvtz-f12 def2/J ...       0             2   \n",
       "3  uHF UNO DLPNO-CCSD(T)-F12D cc-pvtz-f12 def2/J ...       0             2   \n",
       "\n",
       "       energy  run_time                                  input_coordinates  \n",
       "0 -649.692914    1001.0  [[2.473871, -0.648153, 0.590555], [1.045148, -...  \n",
       "1 -447.794979     705.0  [[2.92968, 0.128456, -0.032012], [1.868792, -0...  \n",
       "2 -523.491165    4319.0  [[0.077567, 3.346077, -0.220834], [0.117832, 2...  \n",
       "3 -617.293924    4085.0  [[3.983572, -0.333946, -0.80899], [2.850692, 0...  "
      ]
     },
     "execution_count": 5,
     "metadata": {},
     "output_type": "execute_result"
    }
   ],
   "source": [
    "# and you filter out specific rows _when reading_ the database to further reduce memory consumption (and speed things up)\n",
    "# these statements can be complex, but the pandas docs explain it well:\n",
    "# https://pandas.pydata.org/docs/reference/api/pandas.read_parquet.html\n",
    "df = pd.read_parquet(\n",
    "    \"dlpno.parquet\",\n",
    "    # SKIP rows where...\n",
    "    filters=[\n",
    "        [\n",
    "            (  # multiplicity is equal to 1\n",
    "                \"multiplicity\",\n",
    "                \"=\",\n",
    "                1,\n",
    "            ),  # AND\n",
    "            (  # energy is less than -500\n",
    "                \"energy\",\n",
    "                \"<\",\n",
    "                -500,\n",
    "            ),\n",
    "        ],\n",
    "        [  # OR\n",
    "            (  # these two specific files\n",
    "                \"source\",\n",
    "                \"not in\",\n",
    "                (\n",
    "                    \"/data1/groups/co2_capture/reactant_product_calculation/ts_nho_round1/output/DLPNO_sp_f12/outputs/outputs_146/146857.log\",\n",
    "                    \"/data1/groups/co2_capture/reactant_product_calculation/ts_nho_round1/output/DLPNO_sp_f12/outputs/outputs_146/146989.log\",\n",
    "                ),\n",
    "            ),\n",
    "        ],\n",
    "    ],\n",
    ")\n",
    "df.head(4)"
   ]
  },
  {
   "cell_type": "code",
   "execution_count": 6,
   "metadata": {},
   "outputs": [
    {
     "data": {
      "text/html": [
       "<div>\n",
       "<style scoped>\n",
       "    .dataframe tbody tr th:only-of-type {\n",
       "        vertical-align: middle;\n",
       "    }\n",
       "\n",
       "    .dataframe tbody tr th {\n",
       "        vertical-align: top;\n",
       "    }\n",
       "\n",
       "    .dataframe thead th {\n",
       "        text-align: right;\n",
       "    }\n",
       "</style>\n",
       "<table border=\"1\" class=\"dataframe\">\n",
       "  <thead>\n",
       "    <tr style=\"text-align: right;\">\n",
       "      <th></th>\n",
       "      <th>source</th>\n",
       "      <th>charge</th>\n",
       "    </tr>\n",
       "  </thead>\n",
       "  <tbody>\n",
       "    <tr>\n",
       "      <th>0</th>\n",
       "      <td>/data1/groups/co2_capture/reactant_product_cal...</td>\n",
       "      <td>0</td>\n",
       "    </tr>\n",
       "    <tr>\n",
       "      <th>1</th>\n",
       "      <td>/data1/groups/co2_capture/reactant_product_cal...</td>\n",
       "      <td>0</td>\n",
       "    </tr>\n",
       "    <tr>\n",
       "      <th>2</th>\n",
       "      <td>/data1/groups/co2_capture/reactant_product_cal...</td>\n",
       "      <td>0</td>\n",
       "    </tr>\n",
       "    <tr>\n",
       "      <th>3</th>\n",
       "      <td>/data1/groups/co2_capture/reactant_product_cal...</td>\n",
       "      <td>0</td>\n",
       "    </tr>\n",
       "  </tbody>\n",
       "</table>\n",
       "</div>"
      ],
      "text/plain": [
       "                                              source  charge\n",
       "0  /data1/groups/co2_capture/reactant_product_cal...       0\n",
       "1  /data1/groups/co2_capture/reactant_product_cal...       0\n",
       "2  /data1/groups/co2_capture/reactant_product_cal...       0\n",
       "3  /data1/groups/co2_capture/reactant_product_cal...       0"
      ]
     },
     "execution_count": 6,
     "metadata": {},
     "output_type": "execute_result"
    }
   ],
   "source": [
    "# you can also filter out based on one row without actually loading it\n",
    "df = pd.read_parquet(\"dlpno.parquet\", filters=[(\"run_time\", \"<\", 100)], columns=[\"source\", \"charge\"])\n",
    "df.head(4)"
   ]
  },
  {
   "cell_type": "code",
   "execution_count": 7,
   "metadata": {},
   "outputs": [
    {
     "data": {
      "text/html": [
       "<div><style>\n",
       ".dataframe > thead > tr,\n",
       ".dataframe > tbody > tr {\n",
       "  text-align: right;\n",
       "  white-space: pre-wrap;\n",
       "}\n",
       "</style>\n",
       "<small>shape: (4, 7)</small><table border=\"1\" class=\"dataframe\"><thead><tr><th>source</th><th>route_section</th><th>charge</th><th>multiplicity</th><th>energy</th><th>run_time</th><th>input_coordinates</th></tr><tr><td>str</td><td>str</td><td>u8</td><td>u8</td><td>f64</td><td>u32</td><td>list[list[f64]]</td></tr></thead><tbody><tr><td>&quot;/data1/groups/co2_capture/reac…</td><td>&quot;uHF UNO DLPNO-CCSD(T)-F12D cc-…</td><td>0</td><td>2</td><td>-514.989394</td><td>2496</td><td>[[-2.360469, -1.761878, -0.109737], [-1.560797, -0.685955, -0.252496], … [-0.165135, -2.679552, -1.395038]]</td></tr><tr><td>&quot;/data1/groups/co2_capture/reac…</td><td>&quot;uHF UNO DLPNO-CCSD(T)-F12D cc-…</td><td>0</td><td>2</td><td>-439.242168</td><td>1018</td><td>[[3.029253, 0.698307, -0.169511], [1.874487, -0.255186, 0.038037], … [-3.867946, -0.838983, -0.403688]]</td></tr><tr><td>&quot;/data1/groups/co2_capture/reac…</td><td>&quot;uHF UNO DLPNO-CCSD(T)-F12D cc-…</td><td>0</td><td>2</td><td>-649.692914</td><td>1001</td><td>[[2.473871, -0.648153, 0.590555], [1.045148, -0.128762, -0.185433], … [-1.54149, 1.774222, 0.218295]]</td></tr><tr><td>&quot;/data1/groups/co2_capture/reac…</td><td>&quot;uHF UNO DLPNO-CCSD(T)-F12D cc-…</td><td>0</td><td>2</td><td>-447.794979</td><td>705</td><td>[[2.92968, 0.128456, -0.032012], [1.868792, -0.537436, -0.010411], … [-0.532366, 3.020587, 0.22006]]</td></tr></tbody></table></div>"
      ],
      "text/plain": [
       "shape: (4, 7)\n",
       "┌────────────────┬────────────────┬────────┬──────────────┬─────────────┬──────────┬───────────────┐\n",
       "│ source         ┆ route_section  ┆ charge ┆ multiplicity ┆ energy      ┆ run_time ┆ input_coordin │\n",
       "│ ---            ┆ ---            ┆ ---    ┆ ---          ┆ ---         ┆ ---      ┆ ates          │\n",
       "│ str            ┆ str            ┆ u8     ┆ u8           ┆ f64         ┆ u32      ┆ ---           │\n",
       "│                ┆                ┆        ┆              ┆             ┆          ┆ list[list[f64 │\n",
       "│                ┆                ┆        ┆              ┆             ┆          ┆ ]]            │\n",
       "╞════════════════╪════════════════╪════════╪══════════════╪═════════════╪══════════╪═══════════════╡\n",
       "│ /data1/groups/ ┆ uHF UNO DLPNO- ┆ 0      ┆ 2            ┆ -514.989394 ┆ 2496     ┆ [[-2.360469,  │\n",
       "│ co2_capture/re ┆ CCSD(T)-F12D   ┆        ┆              ┆             ┆          ┆ -1.761878,    │\n",
       "│ ac…            ┆ cc-…           ┆        ┆              ┆             ┆          ┆ -0.109…       │\n",
       "│ /data1/groups/ ┆ uHF UNO DLPNO- ┆ 0      ┆ 2            ┆ -439.242168 ┆ 1018     ┆ [[3.029253,   │\n",
       "│ co2_capture/re ┆ CCSD(T)-F12D   ┆        ┆              ┆             ┆          ┆ 0.698307,     │\n",
       "│ ac…            ┆ cc-…           ┆        ┆              ┆             ┆          ┆ -0.16951…     │\n",
       "│ /data1/groups/ ┆ uHF UNO DLPNO- ┆ 0      ┆ 2            ┆ -649.692914 ┆ 1001     ┆ [[2.473871,   │\n",
       "│ co2_capture/re ┆ CCSD(T)-F12D   ┆        ┆              ┆             ┆          ┆ -0.648153,    │\n",
       "│ ac…            ┆ cc-…           ┆        ┆              ┆             ┆          ┆ 0.59055…      │\n",
       "│ /data1/groups/ ┆ uHF UNO DLPNO- ┆ 0      ┆ 2            ┆ -447.794979 ┆ 705      ┆ [[2.92968,    │\n",
       "│ co2_capture/re ┆ CCSD(T)-F12D   ┆        ┆              ┆             ┆          ┆ 0.128456,     │\n",
       "│ ac…            ┆ cc-…           ┆        ┆              ┆             ┆          ┆ -0.032012…    │\n",
       "└────────────────┴────────────────┴────────┴──────────────┴─────────────┴──────────┴───────────────┘"
      ]
     },
     "execution_count": 7,
     "metadata": {},
     "output_type": "execute_result"
    }
   ],
   "source": [
    "# you can run everything from above using polars as well, and in my experience it uses less memory and is faster\n",
    "df = pl.read_parquet(\"dlpno.parquet\")\n",
    "df.head(4)"
   ]
  },
  {
   "cell_type": "code",
   "execution_count": 8,
   "metadata": {},
   "outputs": [],
   "source": [
    "# a notable difference is that polars sets `memory_map=True` by default (pandas supports it, but is False and accessible via kwarg only)"
   ]
  },
  {
   "cell_type": "code",
   "execution_count": 9,
   "metadata": {},
   "outputs": [
    {
     "data": {
      "text/html": [
       "<div><style>\n",
       ".dataframe > thead > tr,\n",
       ".dataframe > tbody > tr {\n",
       "  text-align: right;\n",
       "  white-space: pre-wrap;\n",
       "}\n",
       "</style>\n",
       "<small>shape: (4, 2)</small><table border=\"1\" class=\"dataframe\"><thead><tr><th>source</th><th>charge</th></tr><tr><td>str</td><td>u8</td></tr></thead><tbody><tr><td>&quot;/data1/groups/co2_capture/reac…</td><td>0</td></tr><tr><td>&quot;/data1/groups/co2_capture/reac…</td><td>0</td></tr><tr><td>&quot;/data1/groups/co2_capture/reac…</td><td>0</td></tr><tr><td>&quot;/data1/groups/co2_capture/reac…</td><td>0</td></tr></tbody></table></div>"
      ],
      "text/plain": [
       "shape: (4, 2)\n",
       "┌─────────────────────────────────┬────────┐\n",
       "│ source                          ┆ charge │\n",
       "│ ---                             ┆ ---    │\n",
       "│ str                             ┆ u8     │\n",
       "╞═════════════════════════════════╪════════╡\n",
       "│ /data1/groups/co2_capture/reac… ┆ 0      │\n",
       "│ /data1/groups/co2_capture/reac… ┆ 0      │\n",
       "│ /data1/groups/co2_capture/reac… ┆ 0      │\n",
       "│ /data1/groups/co2_capture/reac… ┆ 0      │\n",
       "└─────────────────────────────────┴────────┘"
      ]
     },
     "execution_count": 9,
     "metadata": {},
     "output_type": "execute_result"
    }
   ],
   "source": [
    "# to pass filters to polars, you have to use the `pyarrow_options` argument (polars only supports limiting the number of rows in\n",
    "# in sequential order via `n_rows`)\n",
    "df = pl.read_parquet(\n",
    "    \"dlpno.parquet\",\n",
    "    columns=[\"source\", \"charge\"],\n",
    "    pyarrow_options=dict(\n",
    "        filters=[(\"run_time\", \"<\", 100)],\n",
    "        schema=DLPNO_SCHEMA,\n",
    "    ),\n",
    ")\n",
    "df.head(4)"
   ]
  },
  {
   "cell_type": "code",
   "execution_count": 10,
   "metadata": {},
   "outputs": [
    {
     "data": {
      "text/html": [
       "<div><style>\n",
       ".dataframe > thead > tr,\n",
       ".dataframe > tbody > tr {\n",
       "  text-align: right;\n",
       "  white-space: pre-wrap;\n",
       "}\n",
       "</style>\n",
       "<small>shape: (4, 2)</small><table border=\"1\" class=\"dataframe\"><thead><tr><th>source</th><th>energy</th></tr><tr><td>str</td><td>f64</td></tr></thead><tbody><tr><td>&quot;/data1/groups/co2_capture/reac…</td><td>-170.225353</td></tr><tr><td>&quot;/data1/groups/co2_capture/reac…</td><td>-623.790852</td></tr><tr><td>&quot;/data1/groups/co2_capture/reac…</td><td>-134.31814</td></tr><tr><td>&quot;/data1/groups/co2_capture/reac…</td><td>-515.612084</td></tr></tbody></table></div>"
      ],
      "text/plain": [
       "shape: (4, 2)\n",
       "┌─────────────────────────────────┬─────────────┐\n",
       "│ source                          ┆ energy      │\n",
       "│ ---                             ┆ ---         │\n",
       "│ str                             ┆ f64         │\n",
       "╞═════════════════════════════════╪═════════════╡\n",
       "│ /data1/groups/co2_capture/reac… ┆ -170.225353 │\n",
       "│ /data1/groups/co2_capture/reac… ┆ -623.790852 │\n",
       "│ /data1/groups/co2_capture/reac… ┆ -134.31814  │\n",
       "│ /data1/groups/co2_capture/reac… ┆ -515.612084 │\n",
       "└─────────────────────────────────┴─────────────┘"
      ]
     },
     "execution_count": 10,
     "metadata": {},
     "output_type": "execute_result"
    }
   ],
   "source": [
    "# ...or just use polars other functions\n",
    "df = (\n",
    "    pl.scan_parquet(\n",
    "        \"dlpno.parquet\",\n",
    "    )  # opens the file, but does not actually read it (LazyFrame)\n",
    "    .filter(\n",
    "        pl.col(\"run_time\") < 100,\n",
    "    )  # sets up our filters, but still does not run the query\n",
    "    .select(pl.col(\"source\"), pl.col(\"energy\"))\n",
    "    .collect()  # actually runs the query\n",
    ")\n",
    "df.head(4)"
   ]
  },
  {
   "cell_type": "code",
   "execution_count": 11,
   "metadata": {},
   "outputs": [
    {
     "data": {
      "text/html": [
       "<div>\n",
       "<style scoped>\n",
       "    .dataframe tbody tr th:only-of-type {\n",
       "        vertical-align: middle;\n",
       "    }\n",
       "\n",
       "    .dataframe tbody tr th {\n",
       "        vertical-align: top;\n",
       "    }\n",
       "\n",
       "    .dataframe thead th {\n",
       "        text-align: right;\n",
       "    }\n",
       "</style>\n",
       "<table border=\"1\" class=\"dataframe\">\n",
       "  <thead>\n",
       "    <tr style=\"text-align: right;\">\n",
       "      <th></th>\n",
       "      <th>source</th>\n",
       "      <th>energy</th>\n",
       "    </tr>\n",
       "  </thead>\n",
       "  <tbody>\n",
       "    <tr>\n",
       "      <th>0</th>\n",
       "      <td>/data1/groups/co2_capture/reactant_product_cal...</td>\n",
       "      <td>-170.225353</td>\n",
       "    </tr>\n",
       "    <tr>\n",
       "      <th>1</th>\n",
       "      <td>/data1/groups/co2_capture/reactant_product_cal...</td>\n",
       "      <td>-623.790852</td>\n",
       "    </tr>\n",
       "    <tr>\n",
       "      <th>2</th>\n",
       "      <td>/data1/groups/co2_capture/reactant_product_cal...</td>\n",
       "      <td>-134.318140</td>\n",
       "    </tr>\n",
       "    <tr>\n",
       "      <th>3</th>\n",
       "      <td>/data1/groups/co2_capture/reactant_product_cal...</td>\n",
       "      <td>-515.612084</td>\n",
       "    </tr>\n",
       "  </tbody>\n",
       "</table>\n",
       "</div>"
      ],
      "text/plain": [
       "                                              source      energy\n",
       "0  /data1/groups/co2_capture/reactant_product_cal... -170.225353\n",
       "1  /data1/groups/co2_capture/reactant_product_cal... -623.790852\n",
       "2  /data1/groups/co2_capture/reactant_product_cal... -134.318140\n",
       "3  /data1/groups/co2_capture/reactant_product_cal... -515.612084"
      ]
     },
     "execution_count": 11,
     "metadata": {},
     "output_type": "execute_result"
    }
   ],
   "source": [
    "# the final option is to interact with the data via pyarrow directly, which takes all the same arguments as before but in a slightly\n",
    "# different setup - this is the single fastest way to read the data\n",
    "table = pq.ParquetDataset(\"dlpno.parquet\", schema=DLPNO_SCHEMA, filters=[(\"run_time\", \"<\", 100)]).read(columns=[\"source\", \"energy\"])\n",
    "df = table.to_pandas()\n",
    "df.head(4)"
   ]
  }
 ],
 "metadata": {
  "kernelspec": {
   "display_name": "quantumpioneer",
   "language": "python",
   "name": "python3"
  },
  "language_info": {
   "codemirror_mode": {
    "name": "ipython",
    "version": 3
   },
   "file_extension": ".py",
   "mimetype": "text/x-python",
   "name": "python",
   "nbconvert_exporter": "python",
   "pygments_lexer": "ipython3",
   "version": "3.12.3"
  }
 },
 "nbformat": 4,
 "nbformat_minor": 2
}
